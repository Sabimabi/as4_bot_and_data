{
 "cells": [
  {
   "cell_type": "code",
   "execution_count": 2,
   "id": "560abf43",
   "metadata": {},
   "outputs": [],
   "source": [
    "import pandas as pd\n",
    "from pandas import ExcelWriter\n",
    "import os\n",
    "\n",
    "# Папка с исходным файлом и куда будут сохраняться результаты\n",
    "file_path = \"data/2024.xlsx\"\n",
    "base_folder = \"data\"\n",
    "\n",
    "# Проверка: есть ли папка, если нет — создать\n",
    "if not os.path.exists(base_folder):\n",
    "    os.makedirs(base_folder)\n",
    "\n",
    "# Загружаем Excel-файл\n",
    "xls = pd.ExcelFile(file_path)\n",
    "\n",
    "# Оставляем только листы, которые начинаются с цифры\n",
    "relevant_sheets = [name for name in xls.sheet_names if name[0].isdigit()]\n",
    "\n",
    "# Ключевые слова для распределения таблиц\n",
    "keywords = {\n",
    "    \"1_Производство\": [\"производство продукции животноводства\"],\n",
    "    \"2_Численность\": [\"численность скота\", \"численность птицы\"],\n",
    "    \"3_Молоко\": [\"производство молока\"],\n",
    "    \"4_Яйца\": [\"производство яиц\"],\n",
    "    \"5_Забой\": [\"забито\", \"реализовано на убой\"]\n",
    "}\n",
    "\n",
    "# Найдём подходящие листы\n",
    "sheet_matches = {k: [] for k in keywords}\n",
    "for sheet in relevant_sheets:\n",
    "    try:\n",
    "        preview = xls.parse(sheet, nrows=2).astype(str).fillna(\"\").values.astype(str)\n",
    "        joined_text = \" \".join(preview.flatten()).lower()\n",
    "        for key, kw_list in keywords.items():\n",
    "            if any(kw in joined_text for kw in kw_list):\n",
    "                sheet_matches[key].append(sheet)\n",
    "    except Exception:\n",
    "        continue\n",
    "\n",
    "# Сохраняем в отдельные файлы\n",
    "for file_label, sheets in sheet_matches.items():\n",
    "    output_path = os.path.join(base_folder, f\"{file_label}.xlsx\")\n",
    "    with ExcelWriter(output_path, engine='xlsxwriter') as writer:\n",
    "        for sheet in sheets:\n",
    "            try:\n",
    "                df = xls.parse(sheet)\n",
    "                df.to_excel(writer, index=False, sheet_name=sheet[:31])\n",
    "            except Exception as e:\n",
    "                print(f\"Ошибка при сохранении листа {sheet}: {e}\")\n"
   ]
  }
 ],
 "metadata": {
  "kernelspec": {
   "display_name": "Python 3",
   "language": "python",
   "name": "python3"
  },
  "language_info": {
   "codemirror_mode": {
    "name": "ipython",
    "version": 3
   },
   "file_extension": ".py",
   "mimetype": "text/x-python",
   "name": "python",
   "nbconvert_exporter": "python",
   "pygments_lexer": "ipython3",
   "version": "3.13.3"
  }
 },
 "nbformat": 4,
 "nbformat_minor": 5
}
